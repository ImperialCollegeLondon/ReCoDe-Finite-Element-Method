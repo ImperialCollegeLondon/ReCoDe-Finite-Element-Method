{
 "cells": [
  {
   "cell_type": "markdown",
   "id": "758f03b2",
   "metadata": {},
   "source": [
    "## Solving for Displacement"
   ]
  },
  {
   "cell_type": "markdown",
   "id": "3782f040",
   "metadata": {},
   "source": [
    "In this example we will extend the basis of Finite Element Method that was introduced in exercise 1 to solving more complex problems, such as solving for vector fields and apply different boundary conditions problems.\n",
    "\n",
    "Finite Element Method is often used in solving engineering problems. For example calculating how materials and structures react when certain stresses are applied.\n",
    "\n",
    "//// More introduction to the probelm/////\n",
    "These concepts are fairly straight forward to extend to 3D, so we will focus on 2D for now\n",
    "\n",
    "When first building a numerical simulation we want to test it on probelms with analytical solution to make sure there are no bugs in the code and it is working as expected. So first we will use cantilever in 2D problem"
   ]
  },
  {
   "cell_type": "markdown",
   "id": "a9125241",
   "metadata": {},
   "source": [
    "##### Cantilever beam in 2D\n",
    "\n",
    "Imagine we have a beam of length L and height H that is attached to a wall on one side and there is a load applied to the beam on free hanging side. If the load is strong enough, the beam will bend. We can simulate the movement of the beam using Finite Element Method. \n",
    "\n",
    "We can solve for the displacement "
   ]
  },
  {
   "cell_type": "markdown",
   "id": "9a585e76",
   "metadata": {},
   "source": [
    "## Problem Set Up\n",
    "### Step 1.Domain Set Up and Meshing\n",
    "The domain set up and meshing does not depend on the type of solution variable we have. This only depends on the refinement of the domain and type of elements we have to use. However, it is generally good to review the ODE/PDE that is being solving to understand the degree of the differential equation, as this will guide the element degree. In this example we will use elements of degree two. The function below will create and mesh the domain using the inputs provided below in the same way as in first example.\n",
    "\n",
    "(Note, add a note about how for displacement its good to use degree 2 +reference)"
   ]
  },
  {
   "cell_type": "code",
   "execution_count": 1,
   "id": "9a874ecc",
   "metadata": {},
   "outputs": [],
   "source": [
    "from FEM_Module.FEM_Module_class import FEM_model\n",
    "# import meshio\n",
    "import matplotlib.pyplot as plt\n",
    "import numpy as np\n",
    "import os\n",
    "\n",
    "from matplotlib.tri import Triangulation"
   ]
  },
  {
   "cell_type": "markdown",
   "id": "649da558",
   "metadata": {},
   "source": [
    "First we set up the boundaries of the domain and specify the type and size of elements that we want to use. We can visualise this domain to understand the level of refinement that we have"
   ]
  },
  {
   "cell_type": "code",
   "execution_count": 2,
   "id": "74736c0b",
   "metadata": {},
   "outputs": [],
   "source": [
    "########### The following inputs can be changed ################\n",
    "## Domain Definition ##\n",
    "x_start = 0\n",
    "x_end = 60\n",
    "y_start = -1.5\n",
    "y_end = 1.5\n",
    "domain_dim = 2\n",
    "\n",
    "\n",
    "### Input Element Type \n",
    "element_degree = 2 # specify the element order\n",
    "element_length = 10 # specify the domain refinement. Finer meshes lead to more accurate solution\n"
   ]
  },
  {
   "cell_type": "code",
   "execution_count": 3,
   "id": "584d1b4c",
   "metadata": {},
   "outputs": [
    {
     "data": {
      "image/png": "[encoded data removed]",
      "text/plain": [
       "<Figure size 1000x500 with 1 Axes>"
      ]
     },
     "metadata": {},
     "output_type": "display_data"
    }
   ],
   "source": [
    "# Initialise the FEM model\n",
    "FEM_ = FEM_model(domain_dim)\n",
    "\n",
    "L=x_end- x_start\n",
    "t=1\n",
    "c=(y_end-y_start)/2.\n",
    "\n",
    "## Create the domain name\n",
    "FEM_.domain_mesh(element_degree, element_length, [x_start,x_end], [y_start,y_end])\n",
    "FEM_.visualise_mesh()"
   ]
  },
  {
   "cell_type": "markdown",
   "id": "77a18e98",
   "metadata": {},
   "source": [
    "As the load is applied to the beam of the left side along the line x = 0 and the beam moves. There is displacement associated with each node in two directions: x - direction and y-direction. Given the load is upward we expect the majority of the displacement to be in that direction, but some displacement in x-direction is expected too."
   ]
  },
  {
   "cell_type": "markdown",
   "id": "5659951a",
   "metadata": {},
   "source": [
    "### Step 2. Properties Set Up and Analytical Solution\n",
    "Next step is to define the material properties of the beam. The Young's modulus decribes how stiff the beam is, for stiffer materials we have to apply more load in order for the beam to bend. The Poisson ratio describes how much displacement there is in a material perpendicular to the direction of loading.\n",
    "\n",
    " We will also define the load applied to the end of the beam"
   ]
  },
  {
   "cell_type": "code",
   "execution_count": 4,
   "id": "d9e8155a",
   "metadata": {},
   "outputs": [],
   "source": [
    "## Set up material properties\n",
    "\n",
    "Youngs_modulus = 1e6\n",
    "Poisson_ratio = 0.25\n",
    "\n",
    "## Load\n",
    "P=80\n"
   ]
  },
  {
   "cell_type": "markdown",
   "id": "07d0728b",
   "metadata": {},
   "source": [
    "Given there is an analytical solution for this problem, we can calculate the displacement in both directions at any point on the beam with coordinates (x,y). \n",
    "// ADD the analytical solution here: \n"
   ]
  },
  {
   "cell_type": "code",
   "execution_count": 5,
   "id": "a1195698",
   "metadata": {},
   "outputs": [],
   "source": [
    "def analytical_solution_x(x, y, P, L, E, Poisson, c, t):\n",
    "    \"\"\" Analytical solution in x -direction at point (x,y)\n",
    "\n",
    "    Parameters\n",
    "    -----------\n",
    "    x,y (floats) : gloabl coordinates of the point\n",
    "    P (float) : load applied at the end of the beam\n",
    "    L (float) : length of the beam\n",
    "    E (float) : Youngs modulus\n",
    "    Poisson (float) : Poisson ratio of material\n",
    "    c (float) : Half of the height of the beam\n",
    "    t (float) :\n",
    "    \"\"\"\n",
    "    I = (2 * t * c**3) / 3.\n",
    "    G = E / (2 * (1 + Poisson))\n",
    "    part0 = (P * (x**2 - L**2) * y) / (2 * E * I)\n",
    "    part1 = (Poisson * P * y * (y**2 - c**2)) / (6 * E * I)\n",
    "    part2 = (P * y * (y**2 - c**2)) / (6 * G * I)\n",
    "\n",
    "    return -part0-part1+part2\n",
    "\n",
    "def analytical_solution_y(x, y, P, L, E, Poisson, c, t):\n",
    "    \"\"\" Analytical solution in y -direction at point (x,y)\n",
    "\n",
    "    Parameters\n",
    "    -----------\n",
    "    x,y (floats) : gloabl coordinates of the point\n",
    "    P (float) : load applied at the end of the beam\n",
    "    L (float) : length of the beam\n",
    "    E (float) : Youngs modulus\n",
    "    Poisson (float) : Poisson ratio of material\n",
    "    c (float) : Half of the height of the beam\n",
    "    t (float) :\n",
    "    \"\"\"\n",
    "    I = (2 * t * c * c**2) / 3\n",
    "    G = E/(2*(1+Poisson))\n",
    "    part0 = (Poisson * P * x * y**2) / (2 * E * I)\n",
    "    part1 = (P * (x**3 - L**3)) / (6 * E * I)\n",
    "    part2 = (P * L**2) / (2 * E * I)\n",
    "    part3 = (Poisson * P * c**2) / (6 * E * I)\n",
    "    part4 = (P * c**2) / (3 * G * I)\n",
    "\n",
    "    return part0+part1-(part2+part3+part4)*(x-L)"
   ]
  },
  {
   "cell_type": "markdown",
   "id": "4081d45d",
   "metadata": {},
   "source": [
    "### Step 3. Linear System Assembly"
   ]
  },
  {
   "cell_type": "markdown",
   "id": "01930eca",
   "metadata": {},
   "source": [
    "The main step in Finite Element Method is assemblying the linear system of equations that present the differential system that we want to solve. This step is very similar to the previous example apart from two key parts:\n",
    "\n",
    "\n",
    "1) \n",
    "The size of our linear system will be different. For scalar fields there is only one degree of freedom per node. However, when we solve for vector fields, there are multiple degree of freedom per node, since each node can move in multiple dimensions. We have to account for that when we are setting up the system and adding the element contributions to the global matrix. In this way we have a choice of how to set up and the key is to be consistent for each element and the right hand side vector. We will choose the structure where the degree of freedoms per nodes are assigned to consecutive rows in order of x and y displacement respectively. This means that for node with global ID = 0, for two dimentional solution the x-displacement will be in index 0 in solution and the y-displacement will be in index 1, i.e. the solution vector will look like\n",
    "$$\\begin{bmatrix} x0 \\\\ y0 \\\\ x1 \\\\ y1 \\\\...\\\\ x_m \\\\ y_m \\end{bmatrix}$$\n",
    "\n",
    "where index is the global node ID. This will need to be accounted for during the accumulation of element level LHS matrix to the global matrix A.\n",
    "\n",
    "\n",
    "\n",
    "2) \n",
    "The differential equation that we are solving is different so in the element accumulations we have to apply slightly different calculations. Instead of using the derivative of basis functions as is we have to transform them because we have to account for the strain - displacement relation. "
   ]
  },
  {
   "cell_type": "code",
   "execution_count": 12,
   "id": "106c6b9a",
   "metadata": {},
   "outputs": [],
   "source": [
    "## Set up empty matrix global matrix A and the right hand side vector b\n",
    "\n",
    "num_nodes = len(FEM_.mesh.points)\n",
    "A_matrix = np.zeros((num_nodes*domain_dim, num_nodes*domain_dim)) ## !!\n",
    "b = np.zeros((num_nodes*domain_dim,))\n",
    "\n",
    "\n",
    "## Now we iterate through each element in the mesh in the same way before\n",
    "for element in FEM_.element_list_2D:\n",
    "   \n",
    "    # get the list of integration points and the list of global IDs for nodes in the element\n",
    "    IntegrationPoints, IP_weights = FEM_.integrationPoints()\n",
    "   \n",
    "    e_nodes_xy = FEM_.global_node_coords[element][:,:3]\n",
    "\n",
    "    ## we first get the element stiffness matrix for the element by accumulating\n",
    "    ## over all the integration points. The element stiffness matrix also has to be adjusted \n",
    "    ## for multiple degree of  freedom\n",
    "    \n",
    "    LHS = np.zeros((len(element)*domain_dim, len(element)*domain_dim)) \n",
    "    \n",
    "    ## Iterate over each integration point\n",
    "    for IP, weight in zip(IntegrationPoints,IP_weights):\n",
    "        \n",
    "        detJ, JMat = FEM_.Jacobian(IP, e_nodes_xy)\n",
    "        B = FEM_.basis_functions_der(IP)\n",
    "        B_JInv = np.matmul(np.linalg.inv(JMat), B)\n",
    "        B_2 =  FEM_.dN_To2DOF(B_JInv)\n",
    "        BT = B_2.transpose()\n",
    "        D = FEM_.stiffness_matrix_2D(Youngs_modulus,Poisson_ratio)\n",
    "        BT = np.matmul(BT, D)\n",
    "        BT = np.matmul(BT, B_2)\n",
    "\n",
    "        BT = BT * weight*(detJ) ## currently assume all the wieght of IP are the same\n",
    "        LHS += BT\n",
    "\n",
    "    for i in range(len(element)):\n",
    "        for j in range(len(element)):\n",
    "            col = int(element[i])\n",
    "            row = int(element[j])\n",
    "            A_matrix[row*domain_dim,col*domain_dim]+= LHS[int(j*domain_dim)][int(i*domain_dim)] # xx\n",
    "            A_matrix[row*domain_dim,col*domain_dim+1]+= LHS[int(j*domain_dim)][int(i*domain_dim+1)] # xy\n",
    "            A_matrix[row*domain_dim+1,col*domain_dim]+= LHS[int(j*domain_dim+1)][int(i*domain_dim)] # y\n",
    "            A_matrix[row*domain_dim+1,col*domain_dim+1]+= LHS[int(j*domain_dim+1)][int(i*domain_dim+1)] # y\n"
   ]
  },
  {
   "cell_type": "markdown",
   "id": "f94c2061",
   "metadata": {},
   "source": [
    "## Apply Boundary Conditions"
   ]
  },
  {
   "cell_type": "code",
   "execution_count": null,
   "id": "78de23d3",
   "metadata": {},
   "outputs": [],
   "source": []
  }
 ],
 "metadata": {
  "kernelspec": {
   "display_name": "Python 3 (ipykernel)",
   "language": "python",
   "name": "python3"
  },
  "language_info": {
   "codemirror_mode": {
    "name": "ipython",
    "version": 3
   },
   "file_extension": ".py",
   "mimetype": "text/x-python",
   "name": "python",
   "nbconvert_exporter": "python",
   "pygments_lexer": "ipython3",
   "version": "3.11.5"
  }
 },
 "nbformat": 4,
 "nbformat_minor": 5
}
