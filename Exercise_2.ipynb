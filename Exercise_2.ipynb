{
 "cells": [
  {
   "cell_type": "markdown",
   "id": "758f03b2",
   "metadata": {},
   "source": [
    "## Solving for Displacement"
   ]
  },
  {
   "cell_type": "markdown",
   "id": "3782f040",
   "metadata": {},
   "source": [
    "In this example we will extend the basis of Finite Element Method that was introduced in exercise 1 to solving more complex problems, such as solving for vector fields and apply different boundary conditions problems.\n",
    "\n",
    "Finite Element Method is often used in solving engineering problems. For example calculating how materials and structures react when certain stresses are applied.\n",
    "\n",
    "//// More introduction to the probelm/////\n",
    "These concepts are fairly straight forward to extend to 3D, so we will focus on 2D for now\n",
    "\n",
    "When first building a numerical simulation we want to test it on probelms with analytical solution to make sure there are no bugs in the code and it is working as expected. So first we will use cantilever in 2D problem"
   ]
  },
  {
   "cell_type": "markdown",
   "id": "a9125241",
   "metadata": {},
   "source": [
    "##### Cantilever beam in 2D\n",
    "\n",
    "Imagine we have a beam of length L and height H that is attached to a wall on one side and there is a load applied to the beam on free hanging side. If the load is strong enough, the beam will bend. We can simulate the movement of the beam using Finite Element Method. \n",
    "\n",
    "We can solve for the displacement "
   ]
  },
  {
   "cell_type": "markdown",
   "id": "9a585e76",
   "metadata": {},
   "source": [
    "## Problem Set Up\n",
    "### Step 1.Domain Set Up and Meshing\n",
    "The domain set up and meshing does not depend on the type of solution variable we have. This only depends on the refinement of the domain and type of elements we have to use. However, it is generally good to review the ODE/PDE that is being solving to understand the degree of the differential equation, as this will guide the element degree. In this example we will use elements of degree two. The function below will create and mesh the domain using the inputs provided below in the same way as in first example.\n",
    "\n",
    "(Note, add a note about how for displacement its good to use degree 2 +reference)"
   ]
  },
  {
   "cell_type": "code",
   "execution_count": 19,
   "id": "9a874ecc",
   "metadata": {},
   "outputs": [],
   "source": [
    "from FEM_Module.FEM_Module_class import FEM_model\n",
    "# import meshio\n",
    "import matplotlib.pyplot as plt\n",
    "import numpy as np\n",
    "import os\n",
    "\n",
    "from matplotlib.tri import Triangulation"
   ]
  },
  {
   "cell_type": "markdown",
   "id": "649da558",
   "metadata": {},
   "source": [
    "First we set up the boundaries of the domain and specify the type and size of elements that we want to use. We can visualise this domain to understand the level of refinement that we have"
   ]
  },
  {
   "cell_type": "code",
   "execution_count": 20,
   "id": "74736c0b",
   "metadata": {},
   "outputs": [],
   "source": [
    "########### The following inputs can be changed ################\n",
    "## Domain Definition ##\n",
    "x_start = 0\n",
    "x_end = 60\n",
    "y_start = -1.5\n",
    "y_end = 1.5\n",
    "domain_dim = 2\n",
    "\n",
    "\n",
    "### Input Element Type \n",
    "element_degree = 2 # specify the element order\n",
    "element_length =2 # specify the domain refinement. Finer meshes lead to more accurate solution\n"
   ]
  },
  {
   "cell_type": "code",
   "execution_count": 21,
   "id": "584d1b4c",
   "metadata": {},
   "outputs": [
    {
     "data": {
      "image/png": "[encoded data removed]",
      "text/plain": [
       "<Figure size 1000x500 with 1 Axes>"
      ]
     },
     "metadata": {},
     "output_type": "display_data"
    }
   ],
   "source": [
    "# Initialise the FEM model\n",
    "FEM_ = FEM_model(domain_dim)\n",
    "\n",
    "L=x_end- x_start\n",
    "t=1\n",
    "c=(y_end-y_start)/2.\n",
    "\n",
    "## Create the domain name\n",
    "FEM_.domain_mesh(element_degree, element_length, [x_start,x_end], [y_start,y_end])\n",
    "FEM_.visualise_mesh()"
   ]
  },
  {
   "cell_type": "markdown",
   "id": "77a18e98",
   "metadata": {},
   "source": [
    "As the load is applied to the beam of the left side along the line x = 0 and the beam moves. There is displacement associated with each node in two directions: x - direction and y-direction. Given the load is upward we expect the majority of the displacement to be in that direction, but some displacement in x-direction is expected too."
   ]
  },
  {
   "cell_type": "markdown",
   "id": "5659951a",
   "metadata": {},
   "source": [
    "### Step 2. Properties Set Up and Analytical Solution\n",
    "Next step is to define the material properties of the beam. The Young's modulus decribes how stiff the beam is, for stiffer materials we have to apply more load in order for the beam to bend. The Poisson ratio describes how much displacement there is in a material perpendicular to the direction of loading.\n",
    "\n",
    " We will also define the load applied to the end of the beam"
   ]
  },
  {
   "cell_type": "code",
   "execution_count": 22,
   "id": "d9e8155a",
   "metadata": {},
   "outputs": [],
   "source": [
    "## Set up material properties\n",
    "\n",
    "Youngs_modulus = 1e6\n",
    "Poisson_ratio = 0.25\n",
    "\n",
    "## Load\n",
    "P=80\n"
   ]
  },
  {
   "cell_type": "markdown",
   "id": "07d0728b",
   "metadata": {},
   "source": [
    "Given there is an analytical solution for this problem, we can calculate the displacement in both directions at any point on the beam with coordinates (x,y). \n",
    "// ADD the analytical solution here: \n"
   ]
  },
  {
   "cell_type": "code",
   "execution_count": 23,
   "id": "a1195698",
   "metadata": {},
   "outputs": [],
   "source": [
    "def analytical_solution_x(x, y, P, L, E, Poisson, c, t):\n",
    "    \"\"\" Analytical solution in x -direction at point (x,y)\n",
    "\n",
    "    Parameters\n",
    "    -----------\n",
    "    x,y (floats) : gloabl coordinates of the point\n",
    "    P (float) : load applied at the end of the beam\n",
    "    L (float) : length of the beam\n",
    "    E (float) : Youngs modulus\n",
    "    Poisson (float) : Poisson ratio of material\n",
    "    c (float) : Half of the height of the beam\n",
    "    t (float) :\n",
    "    \"\"\"\n",
    "    I = (2 * t * c**3) / 3.\n",
    "    G = E / (2 * (1 + Poisson))\n",
    "    part0 = (P * (x**2 - L**2) * y) / (2 * E * I)\n",
    "    part1 = (Poisson * P * y * (y**2 - c**2)) / (6 * E * I)\n",
    "    part2 = (P * y * (y**2 - c**2)) / (6 * G * I)\n",
    "\n",
    "    return -part0-part1+part2\n",
    "\n",
    "def analytical_solution_y(x, y, P, L, E, Poisson, c, t):\n",
    "    \"\"\" Analytical solution in y -direction at point (x,y)\n",
    "\n",
    "    Parameters\n",
    "    -----------\n",
    "    x,y (floats) : gloabl coordinates of the point\n",
    "    P (float) : load applied at the end of the beam\n",
    "    L (float) : length of the beam\n",
    "    E (float) : Youngs modulus\n",
    "    Poisson (float) : Poisson ratio of material\n",
    "    c (float) : Half of the height of the beam\n",
    "    t (float) :\n",
    "    \"\"\"\n",
    "    I = (2 * t * c * c**2) / 3\n",
    "    G = E/(2*(1+Poisson))\n",
    "    part0 = (Poisson * P * x * y**2) / (2 * E * I)\n",
    "    part1 = (P * (x**3 - L**3)) / (6 * E * I)\n",
    "    part2 = (P * L**2) / (2 * E * I)\n",
    "    part3 = (Poisson * P * c**2) / (6 * E * I)\n",
    "    part4 = (P * c**2) / (3 * G * I)\n",
    "\n",
    "    return part0+part1-(part2+part3+part4)*(x-L)"
   ]
  },
  {
   "cell_type": "markdown",
   "id": "4081d45d",
   "metadata": {},
   "source": [
    "### Step 3. Linear System Assembly"
   ]
  },
  {
   "cell_type": "markdown",
   "id": "01930eca",
   "metadata": {},
   "source": [
    "The main step in Finite Element Method is assemblying the linear system of equations that present the differential system that we want to solve. This step is very similar to the previous example apart from two key parts:\n",
    "\n",
    "\n",
    "1) \n",
    "The size of our linear system will be different. For scalar fields there is only one degree of freedom per node. However, when we solve for vector fields, there are multiple degree of freedom per node, since each node can move in multiple dimensions. We have to account for that when we are setting up the system and adding the element contributions to the global matrix. In this way we have a choice of how to set up and the key is to be consistent for each element and the right hand side vector. We will choose the structure where the degree of freedoms per nodes are assigned to consecutive rows in order of x and y displacement respectively. This means that for node with global ID = 0, for two dimentional solution the x-displacement will be in index 0 in solution and the y-displacement will be in index 1, i.e. the solution vector will look like\n",
    "$$\\begin{bmatrix} x0 \\\\ y0 \\\\ x1 \\\\ y1 \\\\...\\\\ x_m \\\\ y_m \\end{bmatrix}$$\n",
    "\n",
    "where index is the global node ID. This will need to be accounted for during the accumulation of element level LHS matrix to the global matrix A.\n",
    "\n",
    "\n",
    "\n",
    "2) \n",
    "The differential equation that we are solving is different so in the element accumulations we have to apply slightly different calculations. Instead of using the derivative of basis functions as is we have to transform them because we have to account for the strain - displacement relation. "
   ]
  },
  {
   "cell_type": "markdown",
   "id": "beed3dac",
   "metadata": {},
   "source": [
    "#### Exercise. Write accumulation loop\n",
    "\n",
    "Given the physical equation \n",
    "\n",
    "$$\\int_{\\Omega} B^T_2DB_2 d\\Omega,$$\n",
    "\n",
    "where $B_2 = \\overline{\\nabla} \\bf{N}$ , where $\\overline{\\nabla}$ is operator for two-dimensional displacement defined as \n",
    "\\begin{equation}\n",
    "\\begin{bmatrix}\n",
    "\\frac{\\partial}{\\partial x} & 0\\\\[4pt]\n",
    "0 & \\frac{\\partial}{\\partial y}\\\\[4pt]\n",
    "\\frac{\\partial}{\\partial y} & \\frac{\\partial}{\\partial x}\\\\[4pt]\n",
    "\\end{bmatrix}\n",
    "\\end{equation}\n",
    "\n",
    "and $D$ is the stiffness matrix for the material...\n",
    "\n",
    "Including the accumulation of local stiffness matrix LHS to global matrix A, accounting for the fact that there are two degrees of freedom per node."
   ]
  },
  {
   "cell_type": "code",
   "execution_count": 24,
   "id": "106c6b9a",
   "metadata": {},
   "outputs": [],
   "source": [
    "## Set up empty matrix global matrix A and the right hand side vector b\n",
    "\n",
    "num_nodes = len(FEM_.mesh.points)\n",
    "A_matrix = np.zeros((num_nodes*domain_dim, num_nodes*domain_dim)) ## !!\n",
    "b = np.zeros((num_nodes*domain_dim,))\n",
    "\n",
    "\n",
    "## Now we iterate through each element in the mesh in the same way before\n",
    "for element in FEM_.element_list_2D:\n",
    "   \n",
    "    # get the list of integration points and the list of global IDs for nodes in the element\n",
    "    IntegrationPoints, IP_weights = FEM_.integrationPoints()\n",
    "   \n",
    "    e_nodes_xy = FEM_.global_node_coords[element][:,:3]\n",
    "\n",
    "    ## we first get the element stiffness matrix for the element by accumulating\n",
    "    ## over all the integration points. The element stiffness matrix also has to be adjusted \n",
    "    ## for multiple degree of  freedom\n",
    "    \n",
    "    LHS = np.zeros((len(element)*domain_dim, len(element)*domain_dim)) \n",
    "    \n",
    "    ## Iterate over each integration point\n",
    "    for IP, weight in zip(IntegrationPoints,IP_weights):\n",
    "        continue\n",
    "   ######************ Input code here  ********** ########\n",
    "\n",
    "    for i in range(len(element)):\n",
    "        for j in range(len(element)):\n",
    "            col = int(element[i])\n",
    "            row = int(element[j])\n",
    "         \n",
    "            ######************ Input code here  ********** ########"
   ]
  },
  {
   "cell_type": "code",
   "execution_count": 25,
   "id": "ddac64e8",
   "metadata": {},
   "outputs": [],
   "source": [
    "#### This is temp cell for develpment and will be the solution for the exercise\n",
    "num_nodes = len(FEM_.mesh.points)\n",
    "A_matrix = np.zeros((num_nodes*domain_dim, num_nodes*domain_dim)) ## !!\n",
    "b = np.zeros((num_nodes*domain_dim,))\n",
    "\n",
    "\n",
    "## Now we iterate through each element in the mesh in the same way before\n",
    "for element in FEM_.element_list_2D:\n",
    "   \n",
    "    # get the list of integration points and the list of global IDs for nodes in the element\n",
    "    IntegrationPoints, IP_weights = FEM_.integrationPoints()\n",
    "   \n",
    "    e_nodes_xy = FEM_.global_node_coords[element][:,:3]\n",
    "\n",
    "    ## we first get the element stiffness matrix for the element by accumulating\n",
    "    ## over all the integration points. The element stiffness matrix also has to be adjusted \n",
    "    ## for multiple degree of  freedom\n",
    "    \n",
    "    LHS = np.zeros((len(element)*domain_dim, len(element)*domain_dim)) \n",
    "    \n",
    "    ## Iterate over each integration point\n",
    "    for IP, weight in zip(IntegrationPoints,IP_weights):\n",
    "        \n",
    "        \n",
    "        detJ, JMat = FEM_.Jacobian(IP, e_nodes_xy)\n",
    "        B = FEM_.basis_functions_der(IP)\n",
    "        B_JInv = np.matmul(np.linalg.inv(JMat), B)\n",
    "        B_2 =  FEM_.dN_To2DOF(B_JInv)\n",
    "        BT = B_2.transpose()\n",
    "        D = FEM_.stiffness_matrix_2D(Youngs_modulus,Poisson_ratio)\n",
    "        BT = np.matmul(BT, D)\n",
    "        BT = np.matmul(BT, B_2)\n",
    "\n",
    "        BT = BT * weight*(detJ) ## currently assume all the wieght of IP are the same\n",
    "        LHS += BT\n",
    "\n",
    "    for i in range(len(element)):\n",
    "        for j in range(len(element)):\n",
    "            col = int(element[i])\n",
    "            row = int(element[j])\n",
    "            A_matrix[row*domain_dim,col*domain_dim]+= LHS[int(j*domain_dim)][int(i*domain_dim)] # xx\n",
    "            A_matrix[row*domain_dim,col*domain_dim+1]+= LHS[int(j*domain_dim)][int(i*domain_dim+1)] # xy\n",
    "            A_matrix[row*domain_dim+1,col*domain_dim]+= LHS[int(j*domain_dim+1)][int(i*domain_dim)] # y\n",
    "            A_matrix[row*domain_dim+1,col*domain_dim+1]+= LHS[int(j*domain_dim+1)][int(i*domain_dim+1)] # y\n"
   ]
  },
  {
   "cell_type": "markdown",
   "id": "54dacc94",
   "metadata": {},
   "source": [
    "<details>\n",
    "<summary>Solution</summary>\n",
    "    sample code\n",
    "    ```\n",
    "num_nodes = len(FEM_.mesh.points)\n",
    "A_matrix = np.zeros((num_nodes*domain_dim, num_nodes*domain_dim)) ## !!\n",
    "b = np.zeros((num_nodes*domain_dim,))\n",
    "\n",
    "\n",
    "## Now we iterate through each element in the mesh in the same way before\n",
    "for element in FEM_.element_list_2D:\n",
    "   \n",
    "    # get the list of integration points and the list of global IDs for nodes in the element\n",
    "    IntegrationPoints, IP_weights = FEM_.integrationPoints()\n",
    "   \n",
    "    e_nodes_xy = FEM_.global_node_coords[element][:,:3]\n",
    "\n",
    "    ## we first get the element stiffness matrix for the element by accumulating\n",
    "    ## over all the integration points. The element stiffness matrix also has to be adjusted \n",
    "    ## for multiple degree of  freedom\n",
    "    \n",
    "    LHS = np.zeros((len(element)*domain_dim, len(element)*domain_dim)) \n",
    "    \n",
    "    ## Iterate over each integration point\n",
    "    for IP, weight in zip(IntegrationPoints,IP_weights):\n",
    "        \n",
    "        \n",
    "        detJ, JMat = FEM_.Jacobian(IP, e_nodes_xy)\n",
    "        B = FEM_.basis_functions_der(IP)\n",
    "        B_JInv = np.matmul(np.linalg.inv(JMat), B)\n",
    "        B_2 =  FEM_.dN_To2DOF(B_JInv)\n",
    "        BT = B_2.transpose()\n",
    "        D = FEM_.stiffness_matrix_2D(Youngs_modulus,Poisson_ratio)\n",
    "        BT = np.matmul(BT, D)\n",
    "        BT = np.matmul(BT, B_2)\n",
    "\n",
    "        BT = BT * weight*(detJ) ## currently assume all the wieght of IP are the same\n",
    "        LHS += BT\n",
    "\n",
    "    for i in range(len(element)):\n",
    "        for j in range(len(element)):\n",
    "            col = int(element[i])\n",
    "            row = int(element[j])\n",
    "            A_matrix[row*domain_dim,col*domain_dim]+= LHS[int(j*domain_dim)][int(i*domain_dim)] # xx\n",
    "            A_matrix[row*domain_dim,col*domain_dim+1]+= LHS[int(j*domain_dim)][int(i*domain_dim+1)] # xy\n",
    "            A_matrix[row*domain_dim+1,col*domain_dim]+= LHS[int(j*domain_dim+1)][int(i*domain_dim)] # y\n",
    "            A_matrix[row*domain_dim+1,col*domain_dim+1]+= LHS[int(j*domain_dim+1)][int(i*domain_dim+1)] # y\n",
    "\n",
    "    ```\n",
    "</details>"
   ]
  },
  {
   "cell_type": "markdown",
   "id": "f94c2061",
   "metadata": {},
   "source": [
    "## Apply Boundary Conditions"
   ]
  },
  {
   "cell_type": "markdown",
   "id": "de1704a8",
   "metadata": {},
   "source": [
    "There are several types of boundary conditions that exist for differential equations. In previous notebook we applied Dirichlet boudnary conditions, where we know the value of a solution at a specific points. Therefore we are able to set the solution nodes at those points to that value. \n",
    "\n",
    "Another type of boundary condition that is generally applies in Neumann boundary condition. For this boundary condition we know the value of the derivative of the solution at specific points. For example, applying a load or force to domain as we have in this example is a case of Neumann boundary condition. In thes cases we don't know what the solution value is at the boudary, we only know how it behaves with respect to its adjacent nodes. Therefore, we can't set the right hand side vector to a specific value as we have done before and another method is required. \n",
    "\n",
    "Noting that in FEM when we accumulate the left hand side matrix, we aim to replicate the bahaviour of the differential equation on an element by element basis, then to replciate the behaviour of derivative at a boundary we need to do the same with the right hand side vector. \n",
    "\n",
    "We follow similar process of accumulation for every element at the boundary but we add it to the RHS vector $b$ instead of the matrix $A$.\n",
    "\n",
    "In our example we have a combination of boundary conitions, on the left is the Neumann BC due to the force being applied and on the right is the Dirichlet BC due to the cantilever being fixed to the wall and it cannot move."
   ]
  },
  {
   "cell_type": "markdown",
   "id": "9ff0e5b2",
   "metadata": {},
   "source": [
    "#### Exercise. Accumulate the Neumann Boundary condiions\n",
    "\n",
    "In our case the force is applied to the left side of the domain along the line x=0. Therefore we need to accumulate over line elements that exists along the boundaries and we need the basis functions and their derivatives for 1D elements. "
   ]
  },
  {
   "cell_type": "code",
   "execution_count": 28,
   "id": "a7aba7a0",
   "metadata": {},
   "outputs": [],
   "source": [
    "def basis_fun_line_quad(point):\n",
    "    r = point\n",
    "    N=np.zeros((3,))\n",
    "    N[0] = 0.5*(r*r -r)\n",
    "    N[1] = 0.5*(r*r +r)\n",
    "    N[2] = 1-r*r\n",
    "    return N\n",
    "\n",
    "def der_basis_fun_line_quad(point):\n",
    "    r = point\n",
    "    dN=np.zeros((3,))\n",
    "    dN[0] = r-0.5\n",
    "    dN[1] = r+0.5\n",
    "    dN[2] = -2*r\n",
    "    return dN\n",
    "\n",
    "def NeumannStress_value(P):\n",
    "    return np.array([[P, 0.], \n",
    "                     [0., 0]])\n",
    "\n",
    "def Jacobian_1D(pt, element_xy_coord):\n",
    "    dN = der_basis_fun_line_quad(pt)\n",
    "    x_vals=element_xy_coord[:,1]\n",
    "    print(dN, x_vals)\n",
    "    return np.dot(dN,x_vals )\n",
    "   "
   ]
  },
  {
   "cell_type": "code",
   "execution_count": 29,
   "id": "20826780",
   "metadata": {},
   "outputs": [
    {
     "data": {
      "text/plain": [
       "array([[  3, 125, 126],\n",
       "       [125,   0, 127]], dtype=uint64)"
      ]
     },
     "execution_count": 29,
     "metadata": {},
     "output_type": "execute_result"
    }
   ],
   "source": [
    "### Identify the 1D eleemnts that lie on the left hand side boundary: \n",
    "left_ = np.where(np.isclose(FEM_.mesh.points[:,0], x_start))[0]\n",
    "\n",
    "result = np.all(np.isin(FEM_.mesh.cells_dict['line3'], left_), axis=1)\n",
    "indices = np.where(result)[0]\n",
    "left_bc=FEM_.mesh.cells_dict['line3'][indices]\n",
    "left_bc\n",
    "# for i in FEM_.mesh.cells_dict['line3']"
   ]
  },
  {
   "cell_type": "markdown",
   "id": "3078bb75",
   "metadata": {},
   "source": [
    "explain here the concept of force being applied along a direction variable and that defines the NeumassStess_value matrix and how we accumulate to a vector and not a matrix"
   ]
  },
  {
   "cell_type": "code",
   "execution_count": 30,
   "id": "fcb9cf2e",
   "metadata": {},
   "outputs": [
    {
     "name": "stdout",
     "output_type": "stream",
     "text": [
      "[  0   3 125 126 127] [[ 0.00000000e+00 -1.50000000e+00  0.00000000e+00]\n",
      " [ 0.00000000e+00  1.50000000e+00  0.00000000e+00]\n",
      " [ 0.00000000e+00  5.51136914e-12  0.00000000e+00]\n",
      " [ 0.00000000e+00  7.50000000e-01  0.00000000e+00]\n",
      " [ 0.00000000e+00 -7.50000000e-01  0.00000000e+00]]\n",
      "[-1.27459667 -0.27459667  1.54919334] [1.50000000e+00 5.51136914e-12 7.50000000e-01]\n",
      "[-0.5  0.5 -0. ] [1.50000000e+00 5.51136914e-12 7.50000000e-01]\n",
      "[ 0.27459667  1.27459667 -1.54919334] [1.50000000e+00 5.51136914e-12 7.50000000e-01]\n",
      "[-1.27459667 -0.27459667  1.54919334] [ 5.51136914e-12 -1.50000000e+00 -7.50000000e-01]\n",
      "[-0.5  0.5 -0. ] [ 5.51136914e-12 -1.50000000e+00 -7.50000000e-01]\n",
      "[ 0.27459667  1.27459667 -1.54919334] [ 5.51136914e-12 -1.50000000e+00 -7.50000000e-01]\n"
     ]
    }
   ],
   "source": [
    "## Apply the Neumann BOundary Condition to the rhs vector on the LEFT\n",
    "print(left_, FEM_.mesh.points[left_])\n",
    "\n",
    "## 1D integrastion points\n",
    "IP_line = [-np.sqrt(3./5.), 0., np.sqrt(3./5.)]\n",
    "IP_w = [5/9.,8./9.,5./9.]\n",
    "\n",
    "\n",
    "for element in left_bc: # for each line element in left boundary\n",
    "    local_RHS=np.zeros((len(element)*2,1)) ## because 3 nodes but for 2 dim vector there are 2 d.o.f for each node\n",
    "    element_xy_coord = FEM_.mesh.points[element]\n",
    "    for IP, weights in zip(IP_line,IP_w):\n",
    "\n",
    "        N = basis_fun_line_quad(IP)\n",
    "        Nnc = np.zeros((3*2,1)) ## 3 nodes * 2 dim ( i think)\n",
    "        detJ = Jacobian_1D(IP, element_xy_coord)\n",
    "        Neumann_matrix = NeumannStress_value(P)\n",
    "        for j in range(3):\n",
    "            for df in range(2):  # for every dimension\n",
    "                Nnc[j * 2 + df] += N[j] * weights * (detJ) * Neumann_matrix[df,df]\n",
    "\n",
    "        local_RHS+=Nnc\n",
    "    for i in range(len(element)):\n",
    "        node = left_[i]\n",
    "        b[node*2] += local_RHS[i*2]\n",
    "        b[node*2+1] += local_RHS[(i*2)+1]\n"
   ]
  },
  {
   "cell_type": "code",
   "execution_count": 40,
   "id": "c65e4096",
   "metadata": {},
   "outputs": [
    {
     "name": "stdout",
     "output_type": "stream",
     "text": [
      "[ 1  2 63 64 65]\n",
      "[60.  -1.5  0. ] 60.0 -1.5\n",
      "0.0\n",
      "0.0006\n",
      "[60.   1.5  0. ] 60.0 1.5\n",
      "0.0\n",
      "0.0006\n",
      "[ 6.00000000e+01 -5.51136914e-12  0.00000000e+00] 60.0 -5.511369138844202e-12\n",
      "1.6534107416532607e-16\n",
      "8.100050609227808e-27\n",
      "[60.   -0.75  0.  ] 60.0 -0.7500000000023812\n",
      "1.687500000001786e-05\n",
      "0.00015000000000095249\n",
      "[60.    0.75  0.  ] 60.0 0.7499999999973297\n",
      "-1.6874999999979973e-05\n",
      "0.00014999999999893189\n"
     ]
    }
   ],
   "source": [
    "## Apply the Dirichlet BC\n",
    "## Fix RIGHT sidde\n",
    "right_ = np.where(np.isclose(FEM_.mesh.points[:,0],x_end))[0]\n",
    "print(right_)\n",
    "for node in right_:\n",
    "    x_val = FEM_.mesh.points[node][0]\n",
    "    y_val = FEM_.mesh.points[node][1]\n",
    "    print(FEM_.mesh.points[node], x_val, y_val)\n",
    "    \n",
    "    ## x axis\n",
    "    A_matrix[node*2,:] = 0\n",
    "    A_matrix[node*2, node*2] = 1\n",
    "    b[node*2 ] = analytical_solution_x(x_val,y_val,P,L,Youngs_modulus,Poisson_ratio,c,t)\n",
    "    print(analytical_solution_x(x_val,y_val,P,L,Youngs_modulus,Poisson_ratio,c,t))\n",
    "    \n",
    "    #y axis\n",
    "    A_matrix[node*2+1,:] = 0\n",
    "    A_matrix[node*2+1, node*2+1] = 1\n",
    "    b[node*2+1 ] = analytical_solution_y(x_val,y_val,P,L,Youngs_modulus,Poisson_ratio,c,t)\n",
    "    print( analytical_solution_y(x_val,y_val,P,L,Youngs_modulus,Poisson_ratio,c,t))\n",
    "    \n",
    "    "
   ]
  },
  {
   "cell_type": "code",
   "execution_count": 37,
   "id": "cb9346d3",
   "metadata": {
    "scrolled": false
   },
   "outputs": [
    {
     "name": "stdout",
     "output_type": "stream",
     "text": [
      "-40.00000000002453\n",
      "0.0006\n",
      "0.0006\n",
      "-39.999999999975486\n",
      "1.6534107416532607e-16\n",
      "8.100050609227808e-27\n",
      "1.687500000001786e-05\n",
      "0.00015000000000095249\n",
      "-1.6874999999979973e-05\n",
      "0.00014999999999893189\n",
      "-160.0\n"
     ]
    }
   ],
   "source": [
    "for i in b:\n",
    "    if i != 0.0:\n",
    "        print(i)"
   ]
  },
  {
   "cell_type": "markdown",
   "id": "ea0183cb",
   "metadata": {},
   "source": [
    "## Solve and Evaluate the Solution"
   ]
  },
  {
   "cell_type": "code",
   "execution_count": 34,
   "id": "b3572cf0",
   "metadata": {},
   "outputs": [
    {
     "data": {
      "text/plain": [
       "array([-2.33768793e-03,  3.39962348e-03, -2.59460697e-13,  6.00000000e-04,\n",
       "        4.17889832e-13,  6.00000000e-04, -2.17171621e-03,  3.36171081e-03,\n",
       "       -2.25370644e-03,  3.28927757e-03, -2.17964238e-03,  3.18146211e-03,\n",
       "       -2.10464060e-03,  3.07278060e-03, -2.02963482e-03,  2.96415650e-03,\n",
       "       -1.95463507e-03,  2.85553417e-03, -1.87963509e-03,  2.74691138e-03,\n",
       "       -1.80463509e-03,  2.63828859e-03, -1.72963509e-03,  2.52966581e-03,\n",
       "       -1.65463509e-03,  2.42104303e-03, -1.57963509e-03,  2.31242024e-03,\n",
       "       -1.50463509e-03,  2.20379746e-03, -1.42963509e-03,  2.09517468e-03,\n",
       "       -1.35463509e-03,  1.98655189e-03, -1.27963509e-03,  1.87792911e-03,\n",
       "       -1.20463509e-03,  1.76930632e-03, -1.12963509e-03,  1.66068354e-03,\n",
       "       -1.05463509e-03,  1.55206076e-03, -9.79635089e-04,  1.44343797e-03,\n",
       "       -9.04635089e-04,  1.33481519e-03, -8.29635089e-04,  1.22619241e-03,\n",
       "       -7.54635089e-04,  1.11756962e-03, -6.79635089e-04,  1.00894684e-03,\n",
       "       -6.04635089e-04,  9.00324055e-04, -5.29635095e-04,  7.91701269e-04,\n",
       "       -4.54635084e-04,  6.83078429e-04, -3.79634198e-04,  5.74456560e-04,\n",
       "       -3.04647137e-04,  4.65836283e-04, -2.29771995e-04,  3.56814965e-04,\n",
       "       -1.46747163e-04,  2.47419323e-04, -2.29354402e-03,  3.34423676e-03,\n",
       "       -2.21685720e-03,  3.23582096e-03, -2.14214638e-03,  3.12710404e-03,\n",
       "       -2.06713638e-03,  3.01846725e-03, -1.99213497e-03,  2.90984552e-03,\n",
       "       -1.91713509e-03,  2.80122278e-03, -1.84213509e-03,  2.69259999e-03,\n",
       "       -1.76713509e-03,  2.58397720e-03, -1.69213509e-03,  2.47535442e-03,\n",
       "       -1.61713509e-03,  2.36673164e-03, -1.54213509e-03,  2.25810885e-03,\n",
       "       -1.46713509e-03,  2.14948607e-03, -1.39213509e-03,  2.04086328e-03,\n",
       "       -1.31713509e-03,  1.93224050e-03, -1.24213509e-03,  1.82361772e-03,\n",
       "       -1.16713509e-03,  1.71499493e-03, -1.09213509e-03,  1.60637215e-03,\n",
       "       -1.01713509e-03,  1.49774937e-03, -9.42135089e-04,  1.38912658e-03,\n",
       "       -8.67135089e-04,  1.28050380e-03, -7.92135089e-04,  1.17188101e-03,\n",
       "       -7.17135089e-04,  1.06325823e-03, -6.42135089e-04,  9.54635447e-04,\n",
       "       -5.67135091e-04,  8.46012664e-04, -4.92135097e-04,  7.37389866e-04,\n",
       "       -4.17134792e-04,  6.28767039e-04, -3.42137321e-04,  5.20146580e-04,\n",
       "       -2.67204204e-04,  4.11491291e-04, -1.90107232e-04,  3.02741571e-04,\n",
       "       -5.60770670e-05,  2.34728491e-04,  5.80727870e-14, -1.44203667e-13,\n",
       "        1.68749998e-05,  1.50000000e-04, -1.68750001e-05,  1.50000000e-04,\n",
       "        2.96699268e-06,  2.13237888e-04, -6.67891797e-05,  3.19596586e-04,\n",
       "       -1.41700892e-04,  4.28324155e-04, -2.16699947e-04,  5.36955254e-04,\n",
       "       -2.91700919e-04,  6.45578555e-04, -3.66700919e-04,  7.54201272e-04,\n",
       "       -4.41700913e-04,  8.62824054e-04, -5.16700913e-04,  9.71446839e-04,\n",
       "       -5.91700913e-04,  1.08006962e-03, -6.66700913e-04,  1.18869241e-03,\n",
       "       -7.41700913e-04,  1.29731519e-03, -8.16700913e-04,  1.40593797e-03,\n",
       "       -8.91700913e-04,  1.51456076e-03, -9.66700913e-04,  1.62318354e-03,\n",
       "       -1.04170091e-03,  1.73180632e-03, -1.11670091e-03,  1.84042911e-03,\n",
       "       -1.19170091e-03,  1.94905189e-03, -1.26670091e-03,  2.05767468e-03,\n",
       "       -1.34170091e-03,  2.16629746e-03, -1.41670091e-03,  2.27492024e-03,\n",
       "       -1.49170091e-03,  2.38354303e-03, -1.56670091e-03,  2.49216581e-03,\n",
       "       -1.64170091e-03,  2.60078859e-03, -1.71670092e-03,  2.70941138e-03,\n",
       "       -1.79170089e-03,  2.81803415e-03, -1.86670064e-03,  2.92665738e-03,\n",
       "       -1.94170616e-03,  3.03527904e-03, -2.01670887e-03,  3.14385313e-03,\n",
       "       -2.09112781e-03,  3.25298565e-03, -1.94952621e-05,  1.97610245e-04,\n",
       "       -3.08257378e-05,  2.66050144e-04, -1.04222691e-04,  3.74003755e-04,\n",
       "       -1.79199473e-04,  4.82641164e-04, -2.54200624e-04,  5.91267190e-04,\n",
       "       -3.29200925e-04,  6.99889894e-04, -4.04200915e-04,  8.08512662e-04,\n",
       "       -4.79200913e-04,  9.17135447e-04, -5.54200913e-04,  1.02575823e-03,\n",
       "       -6.29200913e-04,  1.13438101e-03, -7.04200913e-04,  1.24300380e-03,\n",
       "       -7.79200913e-04,  1.35162658e-03, -8.54200913e-04,  1.46024937e-03,\n",
       "       -9.29200913e-04,  1.56887215e-03, -1.00420091e-03,  1.67749493e-03,\n",
       "       -1.07920091e-03,  1.78611772e-03, -1.15420091e-03,  1.89474050e-03,\n",
       "       -1.22920091e-03,  2.00336328e-03, -1.30420091e-03,  2.11198607e-03,\n",
       "       -1.37920091e-03,  2.22060885e-03, -1.45420091e-03,  2.32923164e-03,\n",
       "       -1.52920091e-03,  2.43785442e-03, -1.60420091e-03,  2.54647720e-03,\n",
       "       -1.67920091e-03,  2.65509999e-03, -1.75420091e-03,  2.76372276e-03,\n",
       "       -1.82920079e-03,  2.87234559e-03, -1.90420212e-03,  2.98096945e-03,\n",
       "       -1.97921166e-03,  3.08957920e-03, -2.05402892e-03,  3.19809247e-03,\n",
       "       -2.13018260e-03,  3.30654181e-03, -2.29997021e-03,  3.38151912e-03,\n",
       "       -2.19360977e-03,  3.36463913e-03, -2.27355809e-03,  3.39516650e-03,\n",
       "       -6.35668001e-04,  1.04450823e-03, -5.60668001e-04,  9.35885447e-04,\n",
       "       -7.10668001e-04,  1.15313101e-03, -2.13471866e-03,  3.21469920e-03,\n",
       "       -1.12137918e-04,  2.88147508e-04, -1.85632024e-04,  3.92780990e-04,\n",
       "       -2.60667909e-04,  5.01392765e-04, -3.35668241e-04,  6.10017071e-04,\n",
       "       -4.10667992e-04,  7.18639880e-04, -2.06065746e-03,  3.10834067e-03,\n",
       "       -4.85668000e-04,  8.27262663e-04, -7.85668001e-04,  1.26175380e-03,\n",
       "       -1.98566704e-03,  2.99971837e-03, -1.91066811e-03,  2.89109555e-03,\n",
       "       -1.83566800e-03,  2.78247277e-03, -1.76066800e-03,  2.67384999e-03,\n",
       "       -1.68566800e-03,  2.56522720e-03, -8.60668001e-04,  1.37037658e-03,\n",
       "       -1.61066800e-03,  2.45660442e-03, -1.53566800e-03,  2.34798164e-03,\n",
       "       -9.35668001e-04,  1.47899937e-03, -1.46066800e-03,  2.23935885e-03,\n",
       "       -1.38566800e-03,  2.13073607e-03, -1.01066800e-03,  1.58762215e-03,\n",
       "       -1.31066800e-03,  2.02211328e-03, -1.23566800e-03,  1.91349050e-03,\n",
       "       -1.08566800e-03,  1.69624493e-03, -1.16066800e-03,  1.80486772e-03,\n",
       "       -4.72352008e-05,  2.21174499e-04, -2.19925592e-03,  3.29964927e-03,\n",
       "       -2.24082605e-03,  3.34050410e-03, -2.17934090e-03,  3.32936245e-03,\n",
       "       -2.51299829e-05,  1.75040877e-04, -1.01347585e-04,  2.31297550e-04,\n",
       "       -2.14371351e-03,  3.27627166e-03, -1.09921242e-04,  2.28914173e-04,\n",
       "        5.55796998e-05,  2.24918692e-04, -2.26028193e-03,  3.34951487e-03,\n",
       "       -1.52281680e-05,  2.09399211e-04, -2.22522892e-03,  3.29429737e-03,\n",
       "       -1.14515155e-03,  1.73277563e-03, -1.12316800e-03,  1.75055632e-03,\n",
       "       -1.18265155e-03,  1.78708702e-03, -1.06368446e-03,  1.71402563e-03,\n",
       "       -1.10118446e-03,  1.76833702e-03, -1.10765155e-03,  1.67846424e-03,\n",
       "       -1.13868446e-03,  1.82264841e-03, -1.03265155e-03,  1.56984145e-03,\n",
       "       -1.07015155e-03,  1.62415285e-03, -1.21368446e-03,  1.93127120e-03,\n",
       "       -1.17618446e-03,  1.87695980e-03, -1.28868446e-03,  2.03989398e-03,\n",
       "       -1.25118446e-03,  1.98558259e-03, -9.57651545e-04,  1.46121867e-03,\n",
       "       -9.95151545e-04,  1.51553006e-03, -1.19816800e-03,  1.85917911e-03,\n",
       "       -1.36368446e-03,  2.14851676e-03, -1.32618446e-03,  2.09420537e-03,\n",
       "       -1.04816800e-03,  1.64193354e-03, -1.43868446e-03,  2.25713955e-03,\n",
       "       -1.40118446e-03,  2.20282816e-03, -1.27316800e-03,  1.96780189e-03,\n",
       "       -8.82651545e-04,  1.35259589e-03, -9.20151545e-04,  1.40690728e-03,\n",
       "       -1.51368446e-03,  2.36576233e-03, -1.47618446e-03,  2.31145094e-03,\n",
       "       -1.34816800e-03,  2.07642468e-03, -1.58868446e-03,  2.47438511e-03,\n",
       "       -1.55118446e-03,  2.42007372e-03, -8.07651545e-04,  1.24397310e-03,\n",
       "       -8.45151545e-04,  1.29828449e-03, -1.42316800e-03,  2.18504746e-03,\n",
       "       -9.73168001e-04,  1.53331076e-03, -1.66368446e-03,  2.58300790e-03,\n",
       "       -1.62618446e-03,  2.52869651e-03, -1.49816800e-03,  2.29367024e-03,\n",
       "       -6.13684457e-04,  1.06228893e-03, -5.76184457e-04,  1.00797753e-03,\n",
       "       -1.73868446e-03,  2.69163068e-03, -1.70118446e-03,  2.63731929e-03,\n",
       "       -7.32651545e-04,  1.13535032e-03, -7.70151545e-04,  1.18966171e-03,\n",
       "       -5.38684457e-04,  9.53666143e-04, -5.01184457e-04,  8.99354751e-04,\n",
       "       -1.64816800e-03,  2.51091581e-03, -8.98168001e-04,  1.42468797e-03,\n",
       "       -1.57316800e-03,  2.40229303e-03, -1.81368446e-03,  2.80025345e-03,\n",
       "       -1.77618446e-03,  2.74594207e-03, -1.72316800e-03,  2.61953859e-03,\n",
       "       -5.98168001e-04,  9.90196839e-04, -1.88868447e-03,  2.90887636e-03,\n",
       "       -1.85118447e-03,  2.85456484e-03, -5.82651545e-04,  9.18104751e-04,\n",
       "       -5.45151545e-04,  8.63793360e-04, -5.23168001e-04,  8.81574055e-04,\n",
       "       -4.63684457e-04,  8.45043358e-04, -1.96368397e-03,  3.01750019e-03,\n",
       "       -1.92618440e-03,  2.96318834e-03, -1.79816800e-03,  2.72816138e-03,\n",
       "       -6.88684457e-04,  1.17091171e-03, -6.51184457e-04,  1.11660032e-03,\n",
       "       -6.57651545e-04,  1.02672753e-03, -6.95151545e-04,  1.08103893e-03,\n",
       "       -2.03868677e-03,  3.12609920e-03, -2.00118345e-03,  3.07180922e-03,\n",
       "       -1.87316803e-03,  2.83678416e-03, -8.23168001e-04,  1.31606519e-03,\n",
       "       -2.11305679e-03,  3.23351884e-03, -2.07558533e-03,  3.17921872e-03,\n",
       "       -1.94816792e-03,  2.94540695e-03, -6.73168001e-04,  1.09881962e-03,\n",
       "       -2.02316355e-03,  3.05402979e-03, -6.20151545e-04,  9.72416143e-04,\n",
       "       -4.26184457e-04,  7.90731966e-04, -3.88684456e-04,  7.36420578e-04,\n",
       "       -3.51184459e-04,  6.82109211e-04, -3.13684471e-04,  6.27797892e-04,\n",
       "       -2.76184527e-04,  5.73486424e-04, -4.48167997e-04,  7.72951271e-04,\n",
       "       -2.38684646e-04,  5.19173802e-04, -2.01185131e-04,  4.64858101e-04,\n",
       "       -3.73168050e-04,  6.64328490e-04, -1.63688395e-04,  4.10541748e-04,\n",
       "       -1.26194249e-04,  3.56207412e-04, -2.15705674e-03,  3.19816849e-03,\n",
       "       -2.19460777e-03,  3.25242604e-03, -8.92164821e-05,  3.03442960e-04,\n",
       "       -5.03220366e-05,  2.50296209e-04, -2.98168370e-04,  5.55705634e-04,\n",
       "       -2.23158170e-04,  4.47079817e-04, -2.09761714e-03,  3.16154124e-03,\n",
       "       -1.34838095e-04,  2.67783294e-04, -1.70831825e-04,  3.21799852e-04,\n",
       "       -2.08265023e-03,  3.09056161e-03, -2.12015356e-03,  3.14489696e-03,\n",
       "       -1.48788510e-04,  3.39615676e-04, -2.07628255e-04,  3.74894794e-04,\n",
       "       -2.45140484e-04,  4.29310965e-04, -2.82649113e-04,  4.83616167e-04,\n",
       "       -3.20151459e-04,  5.37925800e-04, -3.57651615e-04,  5.92236468e-04,\n",
       "       -3.95151570e-04,  6.46547689e-04, -4.32651550e-04,  7.00859159e-04,\n",
       "       -4.70151544e-04,  7.55170573e-04, -2.00765148e-03,  2.98193696e-03,\n",
       "       -2.04515098e-03,  3.03624796e-03, -5.07651545e-04,  8.09481968e-04,\n",
       "       -7.63684457e-04,  1.27953449e-03, -7.26184457e-04,  1.22522310e-03,\n",
       "       -7.48168001e-04,  1.20744241e-03, -1.93265155e-03,  2.87331488e-03,\n",
       "       -1.97015155e-03,  2.92762614e-03, -1.70765154e-03,  2.54744651e-03,\n",
       "       -1.74515154e-03,  2.60175790e-03, -1.85765154e-03,  2.76469208e-03,\n",
       "       -1.89515155e-03,  2.81900348e-03, -1.78265154e-03,  2.65606929e-03,\n",
       "       -1.82015154e-03,  2.71038068e-03, -8.38684457e-04,  1.38815728e-03,\n",
       "       -8.01184457e-04,  1.33384589e-03, -1.63265155e-03,  2.43882372e-03,\n",
       "       -1.67015155e-03,  2.49313511e-03, -1.55765155e-03,  2.33020094e-03,\n",
       "       -1.59515155e-03,  2.38451233e-03, -9.13684457e-04,  1.49678006e-03,\n",
       "       -8.76184457e-04,  1.44246867e-03, -1.48265155e-03,  2.22157816e-03,\n",
       "       -1.52015155e-03,  2.27588955e-03, -1.40765155e-03,  2.11295537e-03,\n",
       "       -1.44515155e-03,  2.16726676e-03, -9.88684457e-04,  1.60540285e-03,\n",
       "       -9.51184457e-04,  1.55109145e-03, -1.33265155e-03,  2.00433259e-03,\n",
       "       -1.37015155e-03,  2.05864398e-03, -1.02618446e-03,  1.65971424e-03,\n",
       "       -1.25765155e-03,  1.89570980e-03, -1.29515155e-03,  1.95002120e-03,\n",
       "       -1.22015155e-03,  1.84139841e-03, -2.16665214e-03,  3.25703279e-03,\n",
       "       -8.04622958e-05,  2.48075194e-04])"
      ]
     },
     "execution_count": 34,
     "metadata": {},
     "output_type": "execute_result"
    }
   ],
   "source": [
    "## solve the linear systme of equations\n",
    "x = np.linalg.solve(A_matrix, b)\n",
    "x"
   ]
  },
  {
   "cell_type": "code",
   "execution_count": 35,
   "id": "d68a160d",
   "metadata": {},
   "outputs": [],
   "source": [
    "analytica_x_list =np.empty((0,2))\n",
    "FEM_x =np.empty((0,2))\n",
    "\n",
    "\n",
    "analytica_y_list =np.empty((0,2))\n",
    "FEM_y =np.empty((0,2))\n",
    "### Check along the top boundary\n",
    "\n",
    "top_ = np.where(np.isclose(FEM_.mesh.points[:,1],y_end))[0]\n",
    "for node in top_:\n",
    "    x_val = round(FEM_.mesh.points[node][0],5)\n",
    "    y_val = round(FEM_.mesh.points[node][1],5)\n",
    "#     print(x_val, y_val)\n",
    "    \n",
    "    ## x -axis\n",
    "    FEM_solution_x = x[node*2]\n",
    "    analytical_x = analytical_solution_x(x_val,y_val,P,L,Youngs_modulus,Poisson_ratio,c,t)\n",
    "    \n",
    "    # y axis\n",
    "    FEM_solution_y = x[node*2+1]\n",
    "    analytical_y = analytical_solution_y(x_val,y_val,P,L,Youngs_modulus,Poisson_ratio,c,t)\n",
    "    \n",
    "    analytica_x_list=np.append(analytica_x_list,[[x_val,analytical_x]], axis = 0)\n",
    "    analytica_y_list=np.append(analytica_y_list,[[x_val,analytical_y]], axis = 0)\n",
    "    \n",
    "    FEM_x=np.append(FEM_x,[[x_val,FEM_solution_x]], axis=0)\n",
    "    FEM_y=np.append(FEM_y,[[x_val,FEM_solution_y]], axis=0)"
   ]
  },
  {
   "cell_type": "code",
   "execution_count": 36,
   "id": "25a093d7",
   "metadata": {},
   "outputs": [
    {
     "data": {
      "text/plain": [
       "[<matplotlib.lines.Line2D at 0x2920f98e410>]"
      ]
     },
     "execution_count": 36,
     "metadata": {},
     "output_type": "execute_result"
    },
    {
     "data": {
      "image/png": "[encoded data removed]",
      "text/plain": [
       "<Figure size 500x300 with 1 Axes>"
      ]
     },
     "metadata": {},
     "output_type": "display_data"
    },
    {
     "data": {
      "image/png": "[encoded data removed]",
      "text/plain": [
       "<Figure size 500x300 with 1 Axes>"
      ]
     },
     "metadata": {},
     "output_type": "display_data"
    }
   ],
   "source": [
    "plt.figure(figsize=(5,3)) \n",
    "plt.plot(FEM_x[:,0],FEM_x[:,1], \"o\")\n",
    "plt.plot(analytica_x_list[:,0],analytica_x_list[:,1], \"x\")\n",
    "plt.figure(figsize=(5,3)) \n",
    "plt.plot(FEM_y[:,0],FEM_y[:,1], \"o\")\n",
    "plt.plot(analytica_y_list[:,0],analytica_y_list[:,1], \"x\")"
   ]
  },
  {
   "cell_type": "code",
   "execution_count": null,
   "id": "35b15e2a",
   "metadata": {},
   "outputs": [],
   "source": []
  }
 ],
 "metadata": {
  "kernelspec": {
   "display_name": "Python 3 (ipykernel)",
   "language": "python",
   "name": "python3"
  },
  "language_info": {
   "codemirror_mode": {
    "name": "ipython",
    "version": 3
   },
   "file_extension": ".py",
   "mimetype": "text/x-python",
   "name": "python",
   "nbconvert_exporter": "python",
   "pygments_lexer": "ipython3",
   "version": "3.11.5"
  }
 },
 "nbformat": 4,
 "nbformat_minor": 5
}
