{
 "cells": [
  {
   "cell_type": "code",
   "execution_count": 124,
   "id": "491c575b",
   "metadata": {},
   "outputs": [],
   "source": [
    "import pygmsh\n",
    "# import meshio\n",
    "import matplotlib.pyplot as plt\n",
    "import numpy as np\n",
    "\n",
    "from matplotlib.tri import Triangulation"
   ]
  },
  {
   "cell_type": "markdown",
   "id": "fe1558b6",
   "metadata": {},
   "source": [
    "## Step 1 . Meshing the Domain\n",
    "\n",
    "Note: currently using pygmsh, which is a straight forward way to mesh the domian. However, cannot seem to figure out how to do rectangular elements. "
   ]
  },
  {
   "cell_type": "code",
   "execution_count": 136,
   "id": "f773cee5",
   "metadata": {},
   "outputs": [
    {
     "name": "stdout",
     "output_type": "stream",
     "text": [
      "Mesh Points:\n",
      "[[ 0.   0.   0. ]\n",
      " [10.   0.   0. ]\n",
      " [10.   1.   0. ]\n",
      " [ 0.   1.   0. ]\n",
      " [ 1.   0.   0. ]\n",
      " [ 2.   0.   0. ]\n",
      " [ 3.   0.   0. ]\n",
      " [ 4.   0.   0. ]\n",
      " [ 5.   0.   0. ]\n",
      " [ 6.   0.   0. ]\n",
      " [ 7.   0.   0. ]\n",
      " [ 8.   0.   0. ]\n",
      " [ 9.   0.   0. ]\n",
      " [ 9.   1.   0. ]\n",
      " [ 8.   1.   0. ]\n",
      " [ 7.   1.   0. ]\n",
      " [ 6.   1.   0. ]\n",
      " [ 5.   1.   0. ]\n",
      " [ 4.   1.   0. ]\n",
      " [ 3.   1.   0. ]\n",
      " [ 2.   1.   0. ]\n",
      " [ 1.   1.   0. ]\n",
      " [ 0.5  0.5  0. ]\n",
      " [ 1.5  0.5  0. ]\n",
      " [ 9.5  0.5  0. ]\n",
      " [ 8.5  0.5  0. ]\n",
      " [ 2.5  0.5  0. ]\n",
      " [ 7.5  0.5  0. ]\n",
      " [ 6.5  0.5  0. ]\n",
      " [ 3.5  0.5  0. ]\n",
      " [ 4.5  0.5  0. ]\n",
      " [ 5.5  0.5  0. ]]\n",
      "\n",
      "Mesh Cells (Elements):\n",
      "line: [[ 0  4]\n",
      " [ 4  5]\n",
      " [ 5  6]\n",
      " [ 6  7]\n",
      " [ 7  8]\n",
      " [ 8  9]\n",
      " [ 9 10]\n",
      " [10 11]\n",
      " [11 12]\n",
      " [12  1]\n",
      " [ 1  2]\n",
      " [ 2 13]\n",
      " [13 14]\n",
      " [14 15]\n",
      " [15 16]\n",
      " [16 17]\n",
      " [17 18]\n",
      " [18 19]\n",
      " [19 20]\n",
      " [20 21]\n",
      " [21  3]\n",
      " [ 3  0]]\n",
      "triangle: [[ 7  8 30]\n",
      " [ 9 10 28]\n",
      " [10 11 27]\n",
      " [ 8  9 31]\n",
      " [11 12 25]\n",
      " [12  1 24]\n",
      " [29  7 30]\n",
      " [ 3  0 22]\n",
      " [ 0  4 22]\n",
      " [19 20 26]\n",
      " [18 19 29]\n",
      " [20 21 23]\n",
      " [21  3 22]\n",
      " [22  4 23]\n",
      " [16 17 31]\n",
      " [17 18 30]\n",
      " [13 14 25]\n",
      " [14 15 27]\n",
      " [ 2 13 24]\n",
      " [ 1  2 24]\n",
      " [16  9 28]\n",
      " [ 9 16 31]\n",
      " [15 10 27]\n",
      " [10 15 28]\n",
      " [ 8 17 30]\n",
      " [17  8 31]\n",
      " [15 16 28]\n",
      " [11 25 27]\n",
      " [25 14 27]\n",
      " [ 4  5 23]\n",
      " [18 29 30]\n",
      " [ 6  7 29]\n",
      " [ 5  6 26]\n",
      " [23  5 26]\n",
      " [21 22 23]\n",
      " [12 24 25]\n",
      " [24 13 25]\n",
      " [26  6 29]\n",
      " [20 23 26]\n",
      " [19 26 29]]\n",
      "vertex: [[0]\n",
      " [1]\n",
      " [2]\n",
      " [3]]\n"
     ]
    }
   ],
   "source": [
    "import pygmsh\n",
    "degree = 1 ## this is the degree of the elements that we are planning to use\n",
    "\n",
    "# Create a geometry and generate a mesh\n",
    "with pygmsh.geo.Geometry() as geom:\n",
    "    # Define a square geometry (side length = 1)\n",
    "    square = geom.add_rectangle(xmin=0, xmax=10, ymin=0, ymax=1, z=0)\n",
    "                              # mesh_size=0.2)  # Approximate mesh size)\n",
    "\n",
    "    geom.el_order = degree\n",
    "    # Generate the mesh\n",
    "    mesh =  geom.generate_mesh(dim = 2, algorithm=6, order = degree) ## order 2 changes from linear to quadratic, element order\n",
    "    mesh.write(\"triangle_mesh.vtk\")  # Save as a .vtk file for visualization\n",
    "\n",
    "points = mesh.points  # Coordinates of the mesh points\n",
    "print(\"Mesh Points:\")\n",
    "print(points)\n",
    "\n",
    "# Access the cells (elements) of the mesh\n",
    "cells = mesh.cells_dict  # A dictionary of cell types and their connectivity\n",
    "print(\"\\nMesh Cells (Elements):\")\n",
    "for cell_type, connectivity in cells.items():\n",
    "    print(f\"{cell_type}: {connectivity}\")\n"
   ]
  },
  {
   "cell_type": "code",
   "execution_count": 137,
   "id": "36ba6f87",
   "metadata": {},
   "outputs": [
    {
     "name": "stdout",
     "output_type": "stream",
     "text": [
      "40\n"
     ]
    },
    {
     "data": {
      "image/png": "[encoded data removed]",
      "text/plain": [
       "<Figure size 1000x500 with 1 Axes>"
      ]
     },
     "metadata": {},
     "output_type": "display_data"
    }
   ],
   "source": [
    "## Visualising the mesh\n",
    "\n",
    "points = mesh.points  # Coordinates of the mesh points\n",
    "cells = mesh.cells_dict  # Dictionary of cell types and their connectivity\n",
    "\n",
    "## define the name of elements in the mesh\n",
    "if degree == 1:\n",
    "    element_name = 'triangle'\n",
    "elif degree == 2:\n",
    "    element_name == 'triangle6'\n",
    "    \n",
    "    \n",
    "if element_name in cells: ## this relies on the quadratic elements\n",
    "    triangles = np.array(cells[element_name])[:,:3] ## only grab the corner nodes and not the midnotes\n",
    "else:\n",
    "    raise ValueError(\"The mesh does not contain triangular elements.\")\n",
    "\n",
    "# Prepare data for Triangulation\n",
    "x, y = points[:, 0], points[:, 1]\n",
    "triangulation = Triangulation(x, y, triangles)\n",
    "print(len(triangles))\n",
    "\n",
    "# Plot the mesh\n",
    "plt.figure(figsize=(10, 5))\n",
    "plt.triplot(triangulation, color='blue', lw=0.8)\n",
    "plt.scatter(x, y, color='red', s=10, zorder=5)  # Highlight the points\n",
    "plt.title(\"Quadratic Mesh Visualization\")\n",
    "plt.xlabel(\"X\")\n",
    "plt.ylabel(\"Y\")\n",
    "plt.axis(\"equal\")\n",
    "plt.grid(True)\n",
    "plt.show()"
   ]
  },
  {
   "cell_type": "markdown",
   "id": "83f1dfe9",
   "metadata": {},
   "source": [
    "## Set Up  Key Element Functions\n",
    "#### Integration Points"
   ]
  },
  {
   "cell_type": "markdown",
   "id": "9f907a91",
   "metadata": {},
   "source": [
    "We do the intergration of the differential equation over each element. Each element exists in the physical space, so may have different volume and coordinates. To make the coding easier we map each triangle to an isoparametric triangle element which has corners at [0,0],[1,0] and [0,1] for triangles. This way the shape functions and integration points that we use to describe the solution variable are the same between all the elements and we dont need to calculate them differently. The key here would be to apply a Jacobian transformation matrix between the two coordinate systems (local in the isoparameteric space and gloabl which is the physical space)."
   ]
  },
  {
   "cell_type": "markdown",
   "id": "5871a63f",
   "metadata": {},
   "source": [
    "We use Gaussian integration points, which different depending on what type of isoparametric element we use: triangles vs quadrilateral, order and volume of the element.\n",
    "The total weights must add up to the volume/area of the isoparametric element. We have to have enough intrgeration points for the order. Having fewer than the required number of points leads to inaccurace integration (and hence solution) but having more points has no impact (apart from repeating unnecessary calculations and increasing the computation time)\n",
    "\n"
   ]
  },
  {
   "cell_type": "code",
   "execution_count": 138,
   "id": "a0c36c3e",
   "metadata": {},
   "outputs": [],
   "source": [
    "## Quadratic tirangular elements\n",
    "def integrationPoints(degree):\n",
    "    Points = np.array([[1/6.,2/3.],[1/6.,1/6],[2/3.,1/6.]])\n",
    "#     Points = np.array([[0.5,0.5],[0.5,0],[0,0.5]])\n",
    "    weights = np.array([1.,1.,1.,1.]) * 1/6.\n",
    "\n",
    "    return Points, weights\n"
   ]
  },
  {
   "cell_type": "markdown",
   "id": "3472e03c",
   "metadata": {},
   "source": [
    "#### Basis Functions"
   ]
  },
  {
   "cell_type": "markdown",
   "id": "c226e516",
   "metadata": {},
   "source": [
    "The basis functions also depend on the type of element we use. Every node in the element has a corresponding basis function. It must be 1 at the node and 0 and other nodes. FOr linear elements the basis functions are linear functinos from one node to the nest, for quadratic elements the functinos vary quadratically along the edge of the element. (add some visualisation of the basis functions)\n",
    "\n",
    "We have to keep in mind the order of the nodes in the elemnt so we have have correct order of the basis functions. IN particularly for quadratic and higher elements, since there are corner nodes and mid-side nodes.\n",
    "\n",
    "It is usual practice to have the corner nodes first in clockwise or counter clockwise order and then midside nodes. \n",
    "\n",
    "Given we are using pygmsh which has the nodes in this order going counter-clockwise, we will stick with that order here.\n",
    "\n",
    "for reference: https://www.geophysik.uni-muenchen.de/~igel/Lectures/NMG/08_finite_elements_basisfunctions.pdf"
   ]
  },
  {
   "cell_type": "code",
   "execution_count": 139,
   "id": "3a0f1ea5",
   "metadata": {},
   "outputs": [],
   "source": [
    "#This is for elements in 2D\n",
    "def basis_functions(degree, point):\n",
    "    ## Givent the coordinate of the integration point in the local coordinate system\n",
    "    ## we evaulate the basis functions at that point \n",
    "    \n",
    "    r = point[0]\n",
    "    s = point[1]\n",
    "    \n",
    "    if degree == 1:\n",
    "        basis_functions = np.zeros((3,)) ## for each basis function\n",
    "        ## Corner nodes first\n",
    "        basis_functions[0] = (1 - s - r)\n",
    "        basis_functions[1] = r \n",
    "        basis_functions[2] = s  \n",
    "        \n",
    "    ## quadratic elements\n",
    "    if degree==2:\n",
    "        basis_functions = np.zeros((6,)) ## for each basis function\n",
    "        ## Corner nodes first\n",
    "        basis_functions[0] = (1 - nu - eta)*(1-2*eta-2*nu)\n",
    "        basis_functions[1] = eta * (2*eta - 1)\n",
    "        basis_functions[2] = nu * (2*nu - 1)#\n",
    "        #mid side nodes:\n",
    "        \n",
    "        basis_functions[3] = 4*eta*(1-eta-nu)\n",
    "        basis_functions[4] = 4*eta*nu\n",
    "        basis_functions[5] = 4*nu*(1-eta-nu)\n",
    "        \n",
    "        "
   ]
  },
  {
   "cell_type": "markdown",
   "id": "00c00371",
   "metadata": {},
   "source": [
    "For the derivatives of the basis functions we have to take into account that for 2D space there are actually three derivatives exist. There is:\n",
    "\n",
    "$$\\frac{\\partial }{\\partial u},\\frac{\\partial}{\\partial r}$$\n",
    "\n",
    "So when calculating the derivatives of basis functions instead of a vector we have a matrix of dimension [m,n] where m is the space dimension (in this case 2) and n is the number of nodes in the element (ie shape functions). So each column is the derivative of a shape functions and each row is the derivative of all shape functions with respect to a dimension). We will call this matrix B:\n",
    "\n",
    "$$\n",
    "\\begin{bmatrix}\n",
    "\\frac{\\partial{N_0}}{\\partial r} & \\cdots & \\frac{\\partial{N_5}}{\\partial r} \\\\\n",
    "\\frac{\\partial{N_0}}{\\partial s}  & \\cdots & \\frac{\\partial{N_5}}{\\partial s} \\end{bmatrix}\n",
    "$$\n",
    "where $N_0 \\cdots N_5$ are the basis functions."
   ]
  },
  {
   "cell_type": "code",
   "execution_count": 140,
   "id": "0a3f67b2",
   "metadata": {},
   "outputs": [],
   "source": [
    "\n",
    "def basis_functions_der(degree, point):\n",
    "    ## Givent the coordinate of the integration point in the local coordinate system\n",
    "    ## we evaulate the basis functions at that point \n",
    "\n",
    "    ## linear elements\n",
    "    if degree == 1:\n",
    "        dNr = basis_functions_dNr(1,point)\n",
    "        dNs = basis_functions_dNs(1,point)\n",
    "       \n",
    "        basis_functions = np.vstack((dNr,dNs)) \n",
    "        \n",
    "    ## quadratic elements\n",
    "    if degree==2:\n",
    "        dNr = basis_functions_dNr(2,point)\n",
    "        dNs = basis_functions_dNs(2,point)\n",
    "        basis_functions = np.vstack((dNr,dNs))\n",
    "        \n",
    "    return basis_functions\n",
    "                \n",
    "def basis_functions_dNr(degree,point):\n",
    "    r = point[0]\n",
    "    s = point[1]\n",
    "    \n",
    "    # linear eleemnt\n",
    "    if degree == 1:\n",
    "        dNr = np.zeros((3,)) ## for each basis function\n",
    "        ## Corner nodes first\n",
    "        dNr[0] = -1\n",
    "        dNr[1] = 1\n",
    "        dNr[2] = 0.\n",
    "\n",
    "    \n",
    "    if degree==2:\n",
    "        dNr = np.zeros((6,)) ## for each basis function\n",
    "        ## Corner nodes first\n",
    "        dNr[0] = -3. + 4. * r + 4. * s\n",
    "        dNr[1] = -1. + 4. * r\n",
    "        dNr[2] = 0.\n",
    "\n",
    "        dNr[3] = 4. - 8. * r - 4. * s\n",
    "        dNr[4] = 4. * s\n",
    "        dNr[5] = -4*s\n",
    "    return dNr\n",
    "        \n",
    "def basis_functions_dNs(degree,point):\n",
    "    r = point[0]\n",
    "    s = point[1]\n",
    "    if degree == 1:\n",
    "        dNs = np.zeros((3,)) ## for each basis function\n",
    "        ## Corner nodes first\n",
    "        dNs[0] = -1\n",
    "        dNs[1] = 0.\n",
    "        dNs[2] = 1.\n",
    "\n",
    "    if degree==2:\n",
    "        dNs = np.zeros((6,)) ## for each basis function\n",
    "        ## Corner nodes first\n",
    "        dNs[0] = -3. + 4. * r + 4. * s\n",
    "        dNs[1] = 0.\n",
    "        dNs[2] = -1. + 4. * s\n",
    "\n",
    "        dNs[3] = -4. * r\n",
    "        dNs[4] =  4. * r\n",
    "        dNs[5] = 4. - 4. * r - 8. * s\n",
    "\n",
    "    return dNs\n",
    "        \n",
    "               \n",
    "        "
   ]
  },
  {
   "cell_type": "markdown",
   "id": "0e030d63",
   "metadata": {},
   "source": [
    "### Jacobian\n",
    "Give a couple of sentances about Jacobian.\n",
    "Jacobian matrix describes how mapping of physical space with coordinates (x,y,z) to the isoparametric space (r,s)\n",
    "$$\n",
    "\\begin{equation}\n",
    "\\it{J} = \n",
    "\\begin{bmatrix}\n",
    "\\frac{\\partial{x}}{\\partial r} & \\frac{\\partial{y}}{\\partial r} \\\\\n",
    "\\frac{\\partial{x}}{\\partial s} & \\frac{\\partial{y}}{\\partial s} \\\\\n",
    "\\end{bmatrix}\n",
    "= \n",
    "\\begin{bmatrix}\n",
    "\\sum\\frac{\\partial{N_i}}{\\partial r}x_i & \\sum\\frac{\\partial{N_i}}{\\partial r}y_i \\\\\n",
    "\\sum\\frac{\\partial{N_i}}{\\partial s}x_i & \\sum\\frac{\\partial{N_i}}{\\partial s}y_i \\\\\n",
    "\\end{bmatrix}\n",
    "\\end{equation}\n",
    "$$\n",
    "where $i$ is the shape function index\n",
    "\n",
    "This is where it is important to keep track of the nodes local node IDs and their physical coordinates"
   ]
  },
  {
   "cell_type": "code",
   "execution_count": 141,
   "id": "6d4bd04a",
   "metadata": {},
   "outputs": [],
   "source": [
    "def Jacobian(degree, point, e_nodes):\n",
    "    #e_nodes is numpy array (num_nodes, 2) of all the global coordinates of the nodes\n",
    "    space_dim = 2 ## for now we assume dimension is 2\n",
    "    \n",
    "    ## in this case we are mapping 2D space to 2D so Jacobian is a square\n",
    "    Jacobian_mat = np.zeros((space_dim,space_dim))\n",
    "    num_corner_nodes = len(corner_points_xy)\n",
    "    \n",
    "    dnr = basis_functions_dNr(degree, point)\n",
    "    dns = basis_functions_dNs(degree, point)\n",
    "\n",
    "    for dim in range(2):\n",
    "        Jacobian_mat[0,dim] =np.dot(dnr, e_nodes[:,dim])# x coordinate\n",
    "        Jacobian_mat[1,dim] =np.dot(dns, e_nodes[:,dim])# y coordinate\n",
    "    \n",
    "    det = np.linalg.det(Jacobian_mat)\n",
    "    return det, Jacobian_mat\n",
    "        \n",
    "    "
   ]
  },
  {
   "cell_type": "markdown",
   "id": "508c507e",
   "metadata": {},
   "source": [
    "## Accumulation"
   ]
  },
  {
   "cell_type": "markdown",
   "id": "0a9c73b4",
   "metadata": {},
   "source": [
    "The heat diffusion in steady state is the simplest example to solve. For this example let's take the domain and heat it on one side to temprature T1 and keep it cool at T2 at another domain. Then the temperature in the domain must satisfy the following equation:\n",
    "\n",
    "$$\\frac{\\partial u}{\\partial t}= c^2 \\frac{\\partial ^2 u}{(\\partial x)^2},$$\n",
    "\n",
    "\n",
    "where $c$ is the thermal diffusivity of the domain.\n",
    "\n",
    "This is a second order differential equation in space and first in time. However, at steady state there is no change in temperature with time, so the solution for temperature is a linear change in temperature along the bar. We can use derivatives of the basis functions to describe the temprature along the domain.\n"
   ]
  },
  {
   "cell_type": "markdown",
   "id": "af2d2c5c",
   "metadata": {},
   "source": [
    "For this step we perform the actual accumulation of the linear system of equations of the form $Ax=b$. Where A is the matrix of size [n,n], where $n$ is the number of nodes in the system. It captures the interactions between the nodes. Each row corresponds to a specific node and the columns in that row will only be non-zero if that node is connected to other nodes, ie the nodes are part of the same element. \n",
    "ADD AN IMAGE VISUALISING THIS and need to explain further the concept of local and gloabl node IDs."
   ]
  },
  {
   "cell_type": "code",
   "execution_count": 142,
   "id": "d0d576a5",
   "metadata": {},
   "outputs": [
    {
     "name": "stdout",
     "output_type": "stream",
     "text": [
      "There are  32  nodes in the mesh\n"
     ]
    }
   ],
   "source": [
    "num_nodes = len(points)\n",
    "MatrixThermalConduct = 51.9615 # this depends on the material \n",
    "space_dim = 2\n",
    "print(\"There are \", num_nodes, \" nodes in the mesh\")\n",
    "A_matrix = np.zeros((num_nodes, num_nodes))\n",
    "b = np.zeros((num_nodes,))"
   ]
  },
  {
   "cell_type": "code",
   "execution_count": 143,
   "id": "b6e3cfb6",
   "metadata": {
    "scrolled": false
   },
   "outputs": [],
   "source": [
    "\n",
    "\n",
    "## Now we iterate through each element in the mesh \n",
    "for element in cells[element_name]:\n",
    "    \n",
    "    # get the list of integration points and the list of global IDs for nodes in the element\n",
    "    IntegrationPoints, IP_weights = integrationPoints(degree)\n",
    "    e_nodes_xy = points[element][:,:space_dim]\n",
    "    \n",
    "    ## we first get the local stiffness matrix for the element by accumulating\n",
    "    ## over all the integration points\n",
    "    LHS = np.zeros((len(element), len(element)))\n",
    "    for IP, weight in zip(IntegrationPoints,IP_weights):\n",
    "        B = basis_functions_der(degree, IP)\n",
    "        BT = B.transpose() * MatrixThermalConduct\n",
    "        BT = np.matmul(BT, B)\n",
    "        detJ, _ = Jacobian(degree, IP, e_nodes_xy)\n",
    "        BT = BT * weight*(detJ) \n",
    "        LHS += BT # this is a element level stiffness matrix\n",
    "        \n",
    "    ## once LHS has been accumulated over all the integration points, we add it to the global matrix A_matrix\n",
    "    ## this uses the global node IDs to determine which indices are updates\n",
    "    for i in range(len(element)):\n",
    "        for j in range(len(element)):\n",
    "            col = int(element[i])\n",
    "            row = int(element[j])\n",
    "            A_matrix[row][col]+= LHS[int(j)][int(i)]\n"
   ]
  },
  {
   "cell_type": "markdown",
   "id": "1e61ba3f",
   "metadata": {},
   "source": [
    "## Boundary Conditions"
   ]
  },
  {
   "cell_type": "markdown",
   "id": "ece5a244",
   "metadata": {},
   "source": [
    "Applying Dirichlet boundary conditions: \n",
    "set the tempreature on the right side of the domain to be 10 degree and the left side of the domain to be 0. Due to dteady state differential equation that we are solving and the simple rectangular domain we would expect a linear vairation of temperature from right to left. \n",
    "\n",
    "To set Dirichlet boundary condition we overwirte the rows in matrix A that correspond to the nodes that lie on the boundry. We set the rows to be zero everywhere apart from 1 along the diagonal. Additionally we set the value on right hand side vecotr (b vector) to the boundary condition value (in this case 0 for nodes on the left boundary and 10 for right boudnary). This ensure that the solution vector x will have the correct temperature along those boundaries."
   ]
  },
  {
   "cell_type": "code",
   "execution_count": 144,
   "id": "7cfcd404",
   "metadata": {},
   "outputs": [
    {
     "name": "stdout",
     "output_type": "stream",
     "text": [
      "right: [[10.  0.  0.]\n",
      " [10.  1.  0.]] \n",
      "\n",
      "left: [[0. 0. 0.]\n",
      " [0. 1. 0.]]\n"
     ]
    }
   ],
   "source": [
    "# Boundary COnditions\n",
    "## identify the nodes along the right and left boundaries\n",
    "right_ = np.where(points[:, 0] == 10)[0]\n",
    "left_ = np.where(points[:, 0] == 0)[0]\n",
    "\n",
    "## Check that the coordinates of the nodes in the boudnaries lie on the min and max x-values of domain\n",
    "print(\"right:\",points[right_], \"\\n\\nleft:\",points[left_])\n",
    "## Apply temperature of 100  on left and 0 on the right\n",
    "for node in right_:\n",
    "    A_matrix[node,:] = 0\n",
    "    A_matrix[node, node] = 1.\n",
    "    b[node] = 0.\n",
    "    \n",
    "for node in left_:\n",
    "    A_matrix[node,:] = 0\n",
    "    A_matrix[node, node] = 1.\n",
    "    b[node] = 100."
   ]
  },
  {
   "cell_type": "code",
   "execution_count": 145,
   "id": "521dfe17",
   "metadata": {},
   "outputs": [],
   "source": [
    "## solve the linear systme of equations\n",
    "x = np.linalg.solve(A_matrix, b)\n"
   ]
  },
  {
   "cell_type": "markdown",
   "id": "e82a36fa",
   "metadata": {},
   "source": [
    "## Visualise the solution"
   ]
  },
  {
   "cell_type": "markdown",
   "id": "412507d4",
   "metadata": {},
   "source": [
    "Print the nodes on a map and colour code them based on the temperature in the solution vector. This is a quick and easy way to check for linear relationship. \n",
    "Note: next need to write the result to vtk file for better visualisation. \n"
   ]
  },
  {
   "cell_type": "code",
   "execution_count": 146,
   "id": "df10703c",
   "metadata": {},
   "outputs": [
    {
     "data": {
      "image/png": "[encoded data removed]",
      "text/plain": [
       "<Figure size 1200x400 with 2 Axes>"
      ]
     },
     "metadata": {},
     "output_type": "display_data"
    }
   ],
   "source": [
    "plt.figure(figsize=(12, 4))  \n",
    "plt.scatter(points[:, 0], points[:, 1], c=x, cmap='hot', s=50)\n",
    "plt.colorbar(label=\"Temperature\")\n",
    "plt.xlabel(\"X\")\n",
    "plt.ylabel(\"Y\")\n",
    "plt.title(\"2D Temperature Distribution\")\n",
    "plt.show()"
   ]
  },
  {
   "cell_type": "code",
   "execution_count": null,
   "id": "e8e7ab01",
   "metadata": {},
   "outputs": [],
   "source": []
  }
 ],
 "metadata": {
  "kernelspec": {
   "display_name": "Python 3 (ipykernel)",
   "language": "python",
   "name": "python3"
  },
  "language_info": {
   "codemirror_mode": {
    "name": "ipython",
    "version": 3
   },
   "file_extension": ".py",
   "mimetype": "text/x-python",
   "name": "python",
   "nbconvert_exporter": "python",
   "pygments_lexer": "ipython3",
   "version": "3.11.5"
  }
 },
 "nbformat": 4,
 "nbformat_minor": 5
}
